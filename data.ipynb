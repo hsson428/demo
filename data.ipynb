{
 "metadata": {
  "language_info": {
   "codemirror_mode": {
    "name": "ipython",
    "version": 3
   },
   "file_extension": ".py",
   "mimetype": "text/x-python",
   "name": "python",
   "nbconvert_exporter": "python",
   "pygments_lexer": "ipython3",
   "version": "3.7.9-final"
  },
  "orig_nbformat": 2,
  "kernelspec": {
   "name": "python3",
   "display_name": "Python 3",
   "language": "python"
  }
 },
 "nbformat": 4,
 "nbformat_minor": 2,
 "cells": [
  {
   "cell_type": "code",
   "execution_count": 6,
   "metadata": {},
   "outputs": [],
   "source": [
    "import requests\n",
    "\n",
    "url = 'http://apis.data.go.kr/B552657/AEDInfoInqireService/getAedFullDown'\n",
    "api_key = 'csNyrGeiYsO1Dw36uAgMBU56sZAkPedxMNwB9u1bqYgGaITRh%2Bsn6MAWl3QfCBCQBqZEgGGLsJKeRr%2FN8l7GkQ%3D%3D'\n",
    "qs = 'serviceKey={0}&pageNo={1}&numOfRows={2}'.format(api_key, 1, 1000)\n",
    "response = requests.get(url + \"?\" + qs)"
   ]
  },
  {
   "cell_type": "code",
   "execution_count": 3,
   "metadata": {},
   "outputs": [],
   "source": [
    "# response.content"
   ]
  },
  {
   "cell_type": "code",
   "execution_count": 7,
   "metadata": {},
   "outputs": [],
   "source": [
    "import xmltodict, json\n",
    "response_dict = xmltodict.parse(response.content)"
   ]
  },
  {
   "cell_type": "code",
   "execution_count": 6,
   "metadata": {},
   "outputs": [],
   "source": [
    "# response_dict"
   ]
  },
  {
   "cell_type": "code",
   "execution_count": 8,
   "metadata": {},
   "outputs": [],
   "source": [
    "response_json = json.dumps(response_dict, ensure_ascii=False)"
   ]
  },
  {
   "cell_type": "code",
   "execution_count": 10,
   "metadata": {},
   "outputs": [],
   "source": [
    "# response_json"
   ]
  },
  {
   "cell_type": "code",
   "execution_count": 11,
   "metadata": {},
   "outputs": [],
   "source": [
    "response_dict2 = json.loads(response_json)"
   ]
  },
  {
   "cell_type": "code",
   "execution_count": 19,
   "metadata": {},
   "outputs": [],
   "source": [
    "# type(response_dict2)"
   ]
  },
  {
   "cell_type": "code",
   "execution_count": 12,
   "metadata": {},
   "outputs": [],
   "source": [
    "response_dict2['response'].keys()\n",
    "values = response_dict2['response']['body']['items']['item']"
   ]
  },
  {
   "cell_type": "code",
   "execution_count": 13,
   "metadata": {},
   "outputs": [
    {
     "output_type": "execute_result",
     "data": {
      "text/plain": [
       "{'buildAddress': '대전광역시 서구 정림서로 162-18',\n",
       " 'buildPlace': '관리동 1층',\n",
       " 'clerkTel': '042-583-1188',\n",
       " 'manager': '장극순',\n",
       " 'managerTel': '010-***-****',\n",
       " 'mfg': '(주)씨유메디칼시스템',\n",
       " 'model': 'i-padNF1200',\n",
       " 'org': '강변들보람아파트',\n",
       " 'rnum': '10',\n",
       " 'wgs84Lat': '36.3005599077',\n",
       " 'wgs84Lon': '127.3645882629',\n",
       " 'zipcode1': '353',\n",
       " 'zipcode2': '98'}"
      ]
     },
     "metadata": {},
     "execution_count": 13
    }
   ],
   "source": [
    "# type(values)\n",
    "# len(values)\n",
    "values[9]"
   ]
  },
  {
   "cell_type": "code",
   "execution_count": 14,
   "metadata": {},
   "outputs": [
    {
     "output_type": "stream",
     "name": "stdout",
     "text": [
      "{'rnum': 'num', 'buildAddress': 'Address', 'buildPlace': 'DetailedAdress'}\n{'num': 'rnum', 'Address': 'buildAddress', 'DetailedAdress': 'buildPlace'}\n"
     ]
    },
    {
     "output_type": "execute_result",
     "data": {
      "text/plain": [
       "(3, 3)"
      ]
     },
     "metadata": {},
     "execution_count": 14
    }
   ],
   "source": [
    "columns = [\n",
    "    'num', 'Address', 'DetailedAdress'\n",
    "]\n",
    "\n",
    "keys = [\n",
    "    'rnum', 'buildAddress', 'buildPlace'\n",
    "]\n",
    "\n",
    "key_column_map = { key: column for key, column in zip(keys, columns) }\n",
    "print( key_column_map )\n",
    "column_key_map = { column: key for key, column in zip(keys, columns) }\n",
    "print( column_key_map )\n",
    "\n",
    "len(keys), len(columns)"
   ]
  },
  {
   "cell_type": "code",
   "execution_count": 17,
   "metadata": {},
   "outputs": [],
   "source": [
    "import pymysql\n",
    "\n",
    "connection_info = { 'host': 'localhost', 'user': 'root', 'password': 'PASSWORD', 'db': 'demodb', 'charset': 'utf8' }\n",
    "\n",
    "conn = pymysql.connect(**connection_info)\n",
    "cursor = conn.cursor()\n",
    "\n",
    "for value in values:\n",
    "\n",
    "    sql = \"SELECT IFNULL(COUNT(*), 0) FROM aedlocation WHERE num = %s and Address = %s and DetailedAddress = %s\"\n",
    "    cursor.execute(sql, (value['rnum'], value['buildAddress'], value['buildPlace']))\n",
    "    if cursor.fetchone()[0] > 0:\n",
    "        continue    \n",
    "\n",
    "    sql = 'INSERT INTO aedlocation VALUES(%s, %s, %s)'\n",
    "    cursor.execute(sql, [ value[column_key_map[column]] for column in columns[0:] ])\n",
    "\n",
    "conn.commit()\n",
    "\n",
    "conn.close()"
   ]
  }
 ]
}