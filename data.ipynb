{
 "metadata": {
  "language_info": {
   "codemirror_mode": {
    "name": "ipython",
    "version": 3
   },
   "file_extension": ".py",
   "mimetype": "text/x-python",
   "name": "python",
   "nbconvert_exporter": "python",
   "pygments_lexer": "ipython3",
   "version": "3.7.9-final"
  },
  "orig_nbformat": 2,
  "kernelspec": {
   "name": "python3",
   "display_name": "Python 3",
   "language": "python"
  }
 },
 "nbformat": 4,
 "nbformat_minor": 2,
 "cells": [
  {
   "cell_type": "code",
   "execution_count": 13,
   "metadata": {},
   "outputs": [],
   "source": [
    "import requests\n",
    "\n",
    "url = 'http://apis.data.go.kr/B552657/AEDInfoInqireService/getAedFullDown'\n",
    "api_key = 'csNyrGeiYsO1Dw36uAgMBU56sZAkPedxMNwB9u1bqYgGaITRh%2Bsn6MAWl3QfCBCQBqZEgGGLsJKeRr%2FN8l7GkQ%3D%3D'\n",
    "qs = 'serviceKey={0}&pageNo={1}&numOfRows={2}'.format(api_key, 1, 10)\n",
    "response = requests.get(url + \"?\" + qs)"
   ]
  },
  {
   "cell_type": "code",
   "execution_count": 3,
   "metadata": {},
   "outputs": [],
   "source": [
    "# response.content"
   ]
  },
  {
   "cell_type": "code",
   "execution_count": 14,
   "metadata": {},
   "outputs": [],
   "source": [
    "import xmltodict, json\n",
    "response_dict = xmltodict.parse(response.content)"
   ]
  },
  {
   "cell_type": "code",
   "execution_count": 6,
   "metadata": {},
   "outputs": [],
   "source": [
    "# response_dict"
   ]
  },
  {
   "cell_type": "code",
   "execution_count": 15,
   "metadata": {},
   "outputs": [],
   "source": [
    "response_json = json.dumps(response_dict, ensure_ascii=False)"
   ]
  },
  {
   "cell_type": "code",
   "execution_count": 16,
   "metadata": {},
   "outputs": [
    {
     "output_type": "execute_result",
     "data": {
      "text/plain": [
       "'{\"response\": {\"header\": {\"resultCode\": \"00\", \"resultMsg\": \"NORMAL SERVICE.\"}, \"body\": {\"items\": {\"item\": [{\"buildAddress\": \"부산광역시 사하구 낙동대로398번길 12 사하구청의회1층 의원사무실입구\", \"buildPlace\": \"사하구청의회1층 의원사무실입구\", \"clerkTel\": \"051-220-4871\", \"manager\": \"김은아\", \"managerTel\": \"0512204871\", \"mfg\": \"(주)나눔테크\", \"model\": \"NT-381.C\", \"org\": \"사하구청의회\", \"rnum\": \"1\", \"wgs84Lat\": \"35.1045007076\", \"wgs84Lon\": \"128.9747894929\", \"zipcode1\": \"493\", \"zipcode2\": \"28\"}, {\"buildAddress\": \"전라북도 남원시 주천면 정령치로 255\", \"buildPlace\": \"지리산북부사무소 1층 복도\", \"clerkTel\": \"063-630-8943\", \"manager\": \"김재용\", \"managerTel\": \"010-***-****\", \"mfg\": \"씨유메디칼\", \"model\": \"CU-SP1\", \"org\": \"국립공원관리공단지리산국립공원북부사무소\", \"rnum\": \"2\", \"wgs84Lat\": \"35.3896423449\", \"wgs84Lon\": \"127.4614630454\", \"zipcode1\": \"558\", \"zipcode2\": \"02\"}, {\"buildAddress\": \"서울특별시 중구 소공로 106 신세계 조선호텔\", \"buildPlace\": \"보안실\", \"clerkTel\": \"023170019\", \"manager\": \"김현조\", \"managerTel\": \"02-317-0019\", \"mfg\": \"니혼코텐코리아\", \"model\": \"AED-2100k\", \"org\": \"조선호텔\", \"rnum\": \"3\", \"wgs84Lat\": \"37.5644836818\", \"wgs84Lon\": \"126.9801832153\", \"zipcode1\": \"045\", \"zipcode2\": \"33\"}, {\"buildAddress\": \"서울특별시 중구 소공로 106 신세계 조선호텔\", \"buildPlace\": \"휘트니클럽\", \"clerkTel\": \"023170019\", \"manager\": \"김현조\", \"managerTel\": \"02-317-0019\", \"mfg\": \"니혼코텐코리아\", \"model\": \"AED-2100k\", \"org\": \"조선호텔\", \"rnum\": \"4\", \"wgs84Lat\": \"37.5644836818\", \"wgs84Lon\": \"126.9801832153\", \"zipcode1\": \"045\", \"zipcode2\": \"33\"}, {\"buildAddress\": \"울산광역시 남구 대암로 82 신정현대홈타운2단지아파트\", \"buildPlace\": \"관리동 1층 관리사무실 내\", \"clerkTel\": \"052-227-7061\", \"manager\": \"김병훈\", \"managerTel\": \"010-***-****\", \"mfg\": \"(주)나눔테크\", \"model\": \"Heartsaver-A\", \"org\": \"신정현대홈타운2단지\", \"rnum\": \"5\", \"wgs84Lat\": \"35.5289900574\", \"wgs84Lon\": \"129.3233183281\", \"zipcode1\": \"447\", \"zipcode2\": \"33\"}, {\"buildAddress\": \"대구광역시 수성구 야구전설로 1\", \"buildPlace\": \"4층 스윗박스 6호실 앞\", \"clerkTel\": \"053-780-3362\", \"manager\": \"이정빈\", \"managerTel\": \"053-780-3361\", \"mfg\": \"니혼코덴\", \"model\": \"ADE-2100K\", \"org\": \"(주)삼성라이온즈\", \"rnum\": \"6\", \"wgs84Lat\": \"35.8411303719\", \"wgs84Lon\": \"128.6812359601\", \"zipcode1\": \"422\", \"zipcode2\": \"50\"}, {\"buildAddress\": \"충청북도 단양군 적성면 기동2길 32-37\", \"buildPlace\": \"중앙출입구\", \"clerkTel\": \"043-423-5401\", \"manager\": \"최윤혁\", \"managerTel\": \"010-***-****\", \"mfg\": \"(주)메디아나\", \"model\": \"A15-94\", \"org\": \"단양(부산방향)휴게소\", \"rnum\": \"7\", \"wgs84Lat\": \"36.9953526845\", \"wgs84Lon\": \"128.2876116813\", \"zipcode1\": \"270\", \"zipcode2\": \"00\"}, {\"buildAddress\": \"서울특별시 영등포구 의사당대로 1 국회사무처\", \"buildPlace\": \"본관 3층 본회의장\", \"clerkTel\": \"02-788-2822\", \"manager\": \"의사(안근영)\", \"managerTel\": \"010-***-****\", \"mfg\": \"라디안\", \"model\": \"HR-501-B\", \"org\": \"국회사무처\", \"rnum\": \"8\", \"wgs84Lat\": \"37.5316289877\", \"wgs84Lon\": \"126.9141966346\", \"zipcode1\": \"072\", \"zipcode2\": \"33\"}, {\"buildAddress\": \"경기도 안양시 만안구 안양1동 90-1\", \"buildPlace\": \"후문 경비 2초소\", \"clerkTel\": \"4662831\", \"manager\": \"시설과장 한규황\", \"managerTel\": \"466-2831\", \"mfg\": \"한국(주)나눔테크\", \"model\": \"Heart Pro Nt-280\", \"org\": \"안양삼성래미안아파트\", \"rnum\": \"9\", \"wgs84Lat\": \"37.4018812589\", \"wgs84Lon\": \"126.9242328626\", \"zipcode1\": \"430\", \"zipcode2\": \"814\"}, {\"buildAddress\": \"대전광역시 서구 정림서로 162-18\", \"buildPlace\": \"관리동 1층\", \"clerkTel\": \"042-583-1188\", \"manager\": \"장극순\", \"managerTel\": \"010-***-****\", \"mfg\": \"(주)씨유메디칼시스템\", \"model\": \"i-padNF1200\", \"org\": \"강변들보람아파트\", \"rnum\": \"10\", \"wgs84Lat\": \"36.3005599077\", \"wgs84Lon\": \"127.3645882629\", \"zipcode1\": \"353\", \"zipcode2\": \"98\"}]}, \"numOfRows\": \"10\", \"pageNo\": \"1\", \"totalCount\": \"21760\"}}}'"
      ]
     },
     "metadata": {},
     "execution_count": 16
    }
   ],
   "source": [
    "response_json"
   ]
  },
  {
   "cell_type": "code",
   "execution_count": 17,
   "metadata": {},
   "outputs": [],
   "source": [
    "response_dict2 = json.loads(response_json)"
   ]
  },
  {
   "cell_type": "code",
   "execution_count": 19,
   "metadata": {},
   "outputs": [],
   "source": [
    "# type(response_dict2)"
   ]
  },
  {
   "cell_type": "code",
   "execution_count": 20,
   "metadata": {},
   "outputs": [],
   "source": [
    "response_dict2['response'].keys()\n",
    "values = response_dict2['response']['body']['items']['item']"
   ]
  },
  {
   "cell_type": "code",
   "execution_count": 29,
   "metadata": {},
   "outputs": [
    {
     "output_type": "execute_result",
     "data": {
      "text/plain": [
       "{'buildAddress': '대전광역시 서구 정림서로 162-18',\n",
       " 'buildPlace': '관리동 1층',\n",
       " 'clerkTel': '042-583-1188',\n",
       " 'manager': '장극순',\n",
       " 'managerTel': '010-***-****',\n",
       " 'mfg': '(주)씨유메디칼시스템',\n",
       " 'model': 'i-padNF1200',\n",
       " 'org': '강변들보람아파트',\n",
       " 'rnum': '10',\n",
       " 'wgs84Lat': '36.3005599077',\n",
       " 'wgs84Lon': '127.3645882629',\n",
       " 'zipcode1': '353',\n",
       " 'zipcode2': '98'}"
      ]
     },
     "metadata": {},
     "execution_count": 29
    }
   ],
   "source": [
    "# type(values)\n",
    "# len(values)\n",
    "values[9]"
   ]
  },
  {
   "cell_type": "code",
   "execution_count": 37,
   "metadata": {},
   "outputs": [
    {
     "output_type": "stream",
     "name": "stdout",
     "text": [
      "{'rnum': 'num', 'buildAddress': 'Address', 'buildPlace': 'DetailedAdress'}\n{'num': 'rnum', 'Address': 'buildAddress', 'DetailedAdress': 'buildPlace'}\n"
     ]
    },
    {
     "output_type": "execute_result",
     "data": {
      "text/plain": [
       "(3, 3)"
      ]
     },
     "metadata": {},
     "execution_count": 37
    }
   ],
   "source": [
    "columns = [\n",
    "    'num', 'Address', 'DetailedAdress'\n",
    "]\n",
    "\n",
    "keys = [\n",
    "    'rnum', 'buildAddress', 'buildPlace'\n",
    "]\n",
    "\n",
    "key_column_map = { key: column for key, column in zip(keys, columns) }\n",
    "print( key_column_map )\n",
    "column_key_map = { column: key for key, column in zip(keys, columns) }\n",
    "print( column_key_map )\n",
    "\n",
    "len(keys), len(columns)"
   ]
  },
  {
   "cell_type": "code",
   "execution_count": 39,
   "metadata": {},
   "outputs": [],
   "source": [
    "import pymysql\n",
    "\n",
    "connection_info = { 'host': 'localhost', 'user': 'root', 'password': 'Rjwu8253', 'db': 'demodb', 'charset': 'utf8' }\n",
    "\n",
    "conn = pymysql.connect(**connection_info)\n",
    "cursor = conn.cursor()\n",
    "\n",
    "for value in values:\n",
    "\n",
    "    sql = \"SELECT IFNULL(COUNT(*), 0) FROM aedlocation WHERE num = %s and Address = %s and DetailedAddress = %s\"\n",
    "    cursor.execute(sql, (value['rnum'], value['buildAddress'], value['buildPlace']))\n",
    "    if cursor.fetchone()[0] > 0:\n",
    "        continue    \n",
    "\n",
    "    sql = 'INSERT INTO aedlocation VALUES(%s, %s, %s)'\n",
    "    cursor.execute(sql, [ value[column_key_map[column]] for column in columns[0:] ])\n",
    "\n",
    "conn.commit()\n",
    "\n",
    "conn.close()"
   ]
  }
 ]
}